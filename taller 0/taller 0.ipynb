{
 "cells": [
  {
   "cell_type": "code",
   "execution_count": 7,
   "metadata": {},
   "outputs": [
    {
     "name": "stdout",
     "output_type": "stream",
     "text": [
      "Introduce el valor de n para el metodo de Montecarlo: 1000000\n",
      "Introduce el valor del paso para el metodo del trapecio: 0.1\n",
      "El resultado previamente desarrollado es =  0.882081\n",
      "El resultado mediante el metodo de Montecarlo=  0.880913\n",
      "El resultado mediante el metodo del trapecio=  0.879752\n",
      "\n",
      "El metodo de Montecarlo ser mas aproximado\n"
     ]
    }
   ],
   "source": [
    "## Metodos de Montecarlo y del Trapecio\n",
    "import random\n",
    "import math\n",
    "\n",
    "def mtc(n):\n",
    "    suma=0;\n",
    "    i=0;\n",
    "    while i < n:\n",
    "    \n",
    "        x=2*random.random();\n",
    "        y=2*math.exp(-x*x);\n",
    "        suma+=y;\n",
    "        i += 1;\n",
    "     \n",
    "    return(suma/n);   \n",
    "\n",
    "\n",
    "def trap(paso):\n",
    "    x1=0;\n",
    "    x2=paso;\n",
    "    suma=0;\n",
    "    \n",
    "    while x2 <= 2:\n",
    "        fx2=math.exp(-x2*x2);\n",
    "        tria=((math.exp(-x1*x1)) - fx2)*(paso/2);\n",
    "        suma=suma+tria+(fx2*paso);\n",
    "        x1=x2;\n",
    "        x2=x2+paso;\n",
    "     \n",
    "    return(suma);\n",
    "\n",
    "print(\"metodos de Montecarlo y del trapecio:\\n \");\n",
    "n=float(input(\"Introduce el valor de n para el metodo de Montecarlo: \"));\n",
    "pas=float(input(\"Introduce el valor del paso para el metodo del trapecio: \"));\n",
    "r1=round(mtc(n),6);\n",
    "r2=round(trap(pas),6);\n",
    "r=0.882081;\n",
    "print(\"El resultado previamente desarrollado es = \",r);\n",
    "print(\"El resultado mediante el metodo de Montecarlo= \",r1);\n",
    "print(\"El resultado mediante el metodo del trapecio= \",r2);\n",
    "s1=abs(r-r1);\n",
    "s2=abs(r-r2);\n",
    "\n",
    "if(s1<s2):\n",
    "    \n",
    "    print(\"\\nEl metodo de Montecarlo es el mas aproximado\");\n",
    "else:\n",
    "    print(\"\\nEl metodo del trapecio resulta ser mas aproximado\");\n",
    "    \n",
    "\n",
    "          \n",
    "          "
   ]
  },
  {
   "cell_type": "code",
   "execution_count": null,
   "metadata": {},
   "outputs": [],
   "source": []
  },
  {
   "cell_type": "markdown",
   "metadata": {},
   "source": [
    "# "
   ]
  }
 ],
 "metadata": {
  "kernelspec": {
   "display_name": "Python 3",
   "language": "python",
   "name": "python3"
  },
  "language_info": {
   "codemirror_mode": {
    "name": "ipython",
    "version": 3
   },
   "file_extension": ".py",
   "mimetype": "text/x-python",
   "name": "python",
   "nbconvert_exporter": "python",
   "pygments_lexer": "ipython3",
   "version": "3.7.3"
  }
 },
 "nbformat": 4,
 "nbformat_minor": 2
}
