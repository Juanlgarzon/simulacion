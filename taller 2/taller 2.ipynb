{
 "cells": [
  {
   "cell_type": "code",
   "execution_count": 29,
   "metadata": {},
   "outputs": [
    {
     "name": "stdout",
     "output_type": "stream",
     "text": [
      "Ingrese el valor de lambda: 5\n",
      "Ingrese el valor de una semilla x0 para un generador:\n",
      " 1216\n",
      "la V.A. Poisson con medida lambda  5  es =  5\n"
     ]
    }
   ],
   "source": [
    "#Generación de una v.a. Poisson\n",
    "import math\n",
    "import random\n",
    "def ale():\n",
    "    return random.random()\n",
    "\n",
    "def mids(a):\n",
    "    x=a\n",
    "    \n",
    "    i=0;    \n",
    "    x=x*x;    \n",
    "    pu=(x//100)%10000;    \n",
    "    x=pu;    \n",
    "    u=round((pu/10000),5);    \n",
    "    return u;    \n",
    "\n",
    "l=int(input(\"Ingrese el valor de lambda: \"));\n",
    "\n",
    "p=math.exp(l*-1);\n",
    "f=p;\n",
    "#u=mids(x);\n",
    "u=ale();\n",
    "i=0;\n",
    "while u>f:\n",
    "    p=l*p/(i+1);\n",
    "    f=f+p;\n",
    "    i+=1;\n",
    "x=i;\n",
    "\n",
    "print(\"la V.A. Poisson con medida lambda \",l,\" es = \",x);\n",
    "\n"
   ]
  },
  {
   "cell_type": "code",
   "execution_count": 183,
   "metadata": {},
   "outputs": [
    {
     "name": "stdout",
     "output_type": "stream",
     "text": [
      "Ingrese la cantidad de n ensayos: 20\n",
      "Ingrese la probabilidad de exito: .5\n",
      "la V.A. binomial con probabilidad de  0.5  y  20  ensayos es =  9\n"
     ]
    }
   ],
   "source": [
    "#Generación de una v.a. binomial\n",
    "import random\n",
    "def ale():\n",
    "    return random.random()\n",
    "\n",
    "\n",
    "def mids(a):\n",
    "    x=a\n",
    "    \n",
    "    i=0;    \n",
    "    x=x*x;    \n",
    "    pu=(x//100)%10000;    \n",
    "    x=pu;    \n",
    "    u=round((pu/10000),5);    \n",
    "    return u;\n",
    "\n",
    "n=int(input(\"Ingrese la cantidad de n ensayos: \"));\n",
    "p=float(input(\"Ingrese la probabilidad de exito: \"));\n",
    "\n",
    "#u=mids(j);\n",
    "u=ale();\n",
    "c=p/(1-p)\n",
    "i=0\n",
    "#pr=(1-p) ** n\n",
    "pr=pow((1-p),n)\n",
    "\n",
    "f=pr\n",
    "while u > f:\n",
    "    pr=pr*(c*(n-i)/(i+1))\n",
    "    f=f+pr;\n",
    "    i+=1;\n",
    "x=i;\n",
    "\n",
    "\n",
    "print(\"la V.A. binomial con probabilidad de \",p,\" y \",n,\" ensayos es = \",x);\n"
   ]
  },
  {
   "cell_type": "code",
   "execution_count": 179,
   "metadata": {},
   "outputs": [
    {
     "name": "stdout",
     "output_type": "stream",
     "text": [
      "ingrese la cantidad de variables n=2\n",
      "Ingrese la variable X 0\n",
      "1\n",
      "Ingrese la variable p 0\n",
      ".3\n",
      "Ingrese la variable X 1\n",
      "2\n",
      "Ingrese la variable p 1\n",
      ".7\n",
      "U =  0.546\n",
      "X =  2\n"
     ]
    }
   ],
   "source": [
    "#Generación de una v.a. por el metodo de la transformada inversa\n",
    "import random\n",
    "\n",
    "def ale():\n",
    "    return random.random()\n",
    "\n",
    "n=int(input(\"ingrese la cantidad de variables n=\"));\n",
    "lista2=[];\n",
    "lista=[];\n",
    "lista3=[];\n",
    "i=0;\n",
    "aux=0;\n",
    "x=0;\n",
    "u=round(ale(),3);\n",
    "\n",
    "while i < n:\n",
    "    print(\"Ingrese la variable X\",i);\n",
    "    s1=int(input());\n",
    "    print(\"Ingrese la probabilidad p\",i);\n",
    "    s2=float(input());\n",
    "    lista.append(s1);\n",
    "    lista2.append(s2);\n",
    "    aux=aux+lista2[i];\n",
    "    lista3.append(aux);\n",
    "    i=i+1;\n",
    "    \n",
    "i=1;\n",
    "\n",
    "if(u<lista3[0]):\n",
    "    x=lista3[0];\n",
    "    \n",
    "while i < n:\n",
    "    \n",
    "    if(u>=x and u<lista3[i]):\n",
    "        x=lista[i];\n",
    "    \n",
    "    \n",
    "    \n",
    "    i+=1;\n",
    "\n",
    "print(\"U = \",u);\n",
    "print(\"la la V.A. generada por el metodo de la transformada inversa X = \",x);\n"
   ]
  },
  {
   "cell_type": "code",
   "execution_count": null,
   "metadata": {},
   "outputs": [],
   "source": [
    "#punto 1\n",
    "import random\n",
    "def ale():\n",
    "    return random.random()\n",
    "\n",
    "lista=[[1,2,3,4],[0.3, 0.2,0.35,0.15]];\n",
    "\n",
    "while u2 >= ():\n",
    "    u=random.random();\n",
    "    u2=random.random();\n",
    "    y=int(10*u)+1;\n",
    "    x=y\n",
    "\n",
    "    \n",
    ";\n",
    "\n"
   ]
  },
  {
   "cell_type": "code",
   "execution_count": 180,
   "metadata": {},
   "outputs": [
    {
     "name": "stdout",
     "output_type": "stream",
     "text": [
      "la V.A. generada por metodo de descomposicion es =  9\n"
     ]
    }
   ],
   "source": [
    "#Generación de una v.a. por metodo de descomposicion\n",
    "import random\n",
    "def ale():\n",
    "    return random.random()\n",
    "\n",
    "def composicion():\n",
    "    u = round(ale(),3);\n",
    "    u2 = round(ale(),3);\n",
    "    \n",
    "    lista = []\n",
    "    if(u < 0.5):\n",
    "        lista.append((int(10 * u2)))\n",
    "    else:\n",
    "        lista.append((int(5 * u2) + 6))\n",
    "    return lista\n",
    "\n",
    "vas = composicion()\n",
    "for i in vas:\n",
    "    print(\"la V.A. generada por metodo de descomposicion es = \", i)"
   ]
  },
  {
   "cell_type": "code",
   "execution_count": 181,
   "metadata": {},
   "outputs": [
    {
     "name": "stdout",
     "output_type": "stream",
     "text": [
      "X =  4\n"
     ]
    }
   ],
   "source": [
    "#punto 3\n",
    "import random\n",
    "\n",
    "def ale():\n",
    "    return random.random()\n",
    "\n",
    "\n",
    "lista=[[1,2,3,4],[0.3, 0.2,0.35,0.15]];\n",
    "i=0;\n",
    "lista2=[];\n",
    "aux=0;\n",
    "while i < 4:\n",
    "    aux=aux+lista[1][i];\n",
    "    \n",
    "    lista2.append(aux);\n",
    "    #print (aux);\n",
    "    i=i+1;\n",
    "i=1;\n",
    "x=0;\n",
    "u=round(ale(),3);\n",
    "if(u<lista2[0]):\n",
    "    x=lista2[0];\n",
    "    \n",
    "while i < 4:\n",
    "    \n",
    "    if(u>=x and u<lista2[i]):\n",
    "        x=lista[0][i];\n",
    "    \n",
    "    \n",
    "    \n",
    "    i+=1;\n",
    "\n",
    "#print(\"U = \",u);\n",
    "print(\"X = \",x);\n"
   ]
  },
  {
   "cell_type": "code",
   "execution_count": null,
   "metadata": {},
   "outputs": [],
   "source": []
  },
  {
   "cell_type": "code",
   "execution_count": null,
   "metadata": {},
   "outputs": [],
   "source": []
  }
 ],
 "metadata": {
  "kernelspec": {
   "display_name": "Python 3",
   "language": "python",
   "name": "python3"
  },
  "language_info": {
   "codemirror_mode": {
    "name": "ipython",
    "version": 3
   },
   "file_extension": ".py",
   "mimetype": "text/x-python",
   "name": "python",
   "nbconvert_exporter": "python",
   "pygments_lexer": "ipython3",
   "version": "3.7.3"
  }
 },
 "nbformat": 4,
 "nbformat_minor": 2
}
