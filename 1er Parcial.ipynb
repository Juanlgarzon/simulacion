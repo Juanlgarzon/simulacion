{
 "cells": [
  {
   "cell_type": "markdown",
   "metadata": {},
   "source": [
    "## 1er Parcial - Simulación Computacional 2019-I"
   ]
  },
  {
   "cell_type": "markdown",
   "metadata": {},
   "source": [
    "**1)** Para los siguientes generadores congruenciales mixtos encuentre $u_1,...,u_{100}$, el tamaño del ciclo (si lo tiene) y calcule el estadístico $\\chi^2$\n",
    "\n",
    "**(a)** $x_0=3, x_n = (5x_{n-1}+7) \\mod 200$"
   ]
  },
  {
   "cell_type": "markdown",
   "metadata": {},
   "source": [
    "**(b)** $x_0=123, x_n = (13x_{n-1}+3) \\mod 16$"
   ]
  },
  {
   "cell_type": "markdown",
   "metadata": {},
   "source": [
    "**(c)** $x_0=7, x_n = (5x_{n-1}+3) \\mod 33$"
   ]
  },
  {
   "cell_type": "markdown",
   "metadata": {},
   "source": [
    "**2)** Para las siguientes integrales, use simulación con el generado congruencial mixto $x_0=6789, x_n = (25214903917 x_{n-1}+11) \\mod 2^{48}-1$ para aproximar el valor de las integrales para $N=100, 1000, 10000$, y compare su estimación con el valor real calculando el error relativo porcentual:\n",
    "\n",
    "**(a)** $\\int_{0}^{1}e ^{sin(x)}dx$"
   ]
  },
  {
   "cell_type": "markdown",
   "metadata": {},
   "source": [
    "**(b)** $\\int_{-3}^{3}e^{sin(x)-x^{3}}dx$"
   ]
  },
  {
   "cell_type": "markdown",
   "metadata": {},
   "source": [
    "**(c)** $\\int_{0}^{1}(\\sin(1+x^{2}))^{3/2}dx$"
   ]
  },
  {
   "cell_type": "markdown",
   "metadata": {},
   "source": [
    "**3)** Dados los siguientes valores de la distribución de probabilidad discreta de la variable aleatoria $X$ de un dado de 8 lados: $X = {1,2,3,4,5,6,7,8}$, $p(X) = {0.11,0.3,0.12,0.2,0.05,0.07,0.05,0.10}$, ¿Qué valores retornaría el generador de variables aleatorias por el método de la inversión si los números aleatorios generados son: $U = {0.1573, 0.9454, 0.8211, 0.6996, 0.0318, 0.1708, 0.6865, 0.9102, 0.2579, 0.6344}$?"
   ]
  },
  {
   "cell_type": "markdown",
   "metadata": {},
   "source": [
    "**4)** Responda las siguientes preguntas:\n",
    "\n",
    "**(a)** Nombre dos distribuciones de probabilidad discreta."
   ]
  },
  {
   "cell_type": "markdown",
   "metadata": {},
   "source": [
    "**(b)** ¿Cuáles son los parámetros de la distribución de probabilidad normal?"
   ]
  },
  {
   "cell_type": "markdown",
   "metadata": {},
   "source": [
    "**(c)** ¿Cuál es el valor esperado de una distribución de probabilidad uniforme continua que esta definida en el intervalo de 2 a 12? "
   ]
  },
  {
   "cell_type": "markdown",
   "metadata": {},
   "source": [
    "**5)** Utilizando el metodo de Monte Carlo, y tomando como base el ejemplo del calculo del área del circulo visto en clase y del taller 3 con sus propios generadores congruenciales:\n",
    "\n",
    "**(a)** Implemente el metodo de Monte Carlo para calcular y mostrar el área estimada de una elipse con un semieje mayor $a = 13$ y semieje menor $b = 6$ centrado en el origen $x, y = (0, 0)$ generando 1000 coordenadas aleatorias $(X, Y)$ en el rango de\n",
    "$X = [−a, a]$ y $Y = [−b, b]$.<br>\n",
    "**(b)** Calcule el area real de la elipse.<br>\n",
    "**(c)** Calcule la diferencia entre el área real y el área estimada de la elipse con el método de Monte Carlo<br>\n",
    "**(d)** Grafique los puntos aleatorios generados que caen dentro de la elipse en rojo y los que caen fuera de la elipse en azul."
   ]
  }
 ],
 "metadata": {
  "kernelspec": {
   "display_name": "Python 3",
   "language": "python",
   "name": "python3"
  },
  "language_info": {
   "codemirror_mode": {
    "name": "ipython",
    "version": 3
   },
   "file_extension": ".py",
   "mimetype": "text/x-python",
   "name": "python",
   "nbconvert_exporter": "python",
   "pygments_lexer": "ipython3",
   "version": "3.6.8"
  }
 },
 "nbformat": 4,
 "nbformat_minor": 2
}
