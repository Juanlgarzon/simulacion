{
 "cells": [
  {
   "cell_type": "code",
   "execution_count": 6,
   "metadata": {},
   "outputs": [
    {
     "name": "stdout",
     "output_type": "stream",
     "text": [
      "Ingrese la cantidad maxima de numeros a generar: 50\n",
      "Ingrese el valor de la semilla x0: 5\n",
      "Introduzca el valor de k: 11\n",
      "Prueba chi-cuadrado con k= 11  y 95% =  19.6751\n",
      "Generador Borland\n",
      "Prueba del simulador= 8.96\n",
      "Aceptada la hipotesis de uniformidad chi-cuadrado\n",
      "\n",
      "Generador numericalReciepies\n",
      "Prueba del simulador= 5.44\n",
      "Aceptada la hipotesis de uniformidad chi-cuadrado\n",
      "\n",
      "Generador gSinclair\n",
      "Prueba del simulador= 16.44\n",
      "Aceptada la hipotesis de uniformidad chi-cuadrado\n",
      "\n",
      "Generador randu\n",
      "Prueba del simulador= 9.4\n",
      "Aceptada la hipotesis de uniformidad chi-cuadrado\n",
      "\n"
     ]
    }
   ],
   "source": [
    "## chi cuadrado\n",
    "#prueba de chi-cuadado x^2\n",
    "import numpy as np\n",
    "import scipy as sp\n",
    "import math\n",
    "import scipy.stats as stats\n",
    "\n",
    "def randu(X,P):\n",
    "    r = []\n",
    "    for i in range(P):\n",
    "        X=(65539*X)%(2**31)\n",
    "        \n",
    "        r.append(float(X)/(2**31))\n",
    "    return r\n",
    "\n",
    "def gSinclair(X, P):\n",
    "    r = []\n",
    "    for i in range(P):\n",
    "        X=(75*X)%((2**16)+1)\n",
    "        r.append(float(X)/((2**16)+1))\n",
    "    return r\n",
    "\n",
    "def numericalReciepies(X,P):\n",
    "    r = []\n",
    "    for i in range(P):\n",
    "        X=(1664525*X+1013904223)%(2**32)\n",
    "        r.append(float(X)/2**32)\n",
    "    return r\n",
    "def borland(X,P):\n",
    "    r = []\n",
    "    for i in range(P):\n",
    "        X=(22695477*X+1)%(2**32)\n",
    "        r.append(float(X)/2**32)\n",
    "    return r\n",
    "def chiCuadrado(critico,canpart,secuencia=[]):\n",
    "    \n",
    "    longitudIntervalo = 1 / float(canpart) \n",
    "    frecuenciasObservadas = []           \n",
    "\n",
    "\n",
    "    for i in range(0,canpart):\n",
    "        frecuenciasObservadas.append(0)\n",
    "        \n",
    "    \n",
    "\n",
    "   \n",
    "    \n",
    "    for i in range(len(secuencia)):\n",
    "        cont = 1\n",
    "        for j in range(0,canpart):     \n",
    "            if secuencia[i] > (cont - 1) * longitudIntervalo and secuencia[i] <= cont * longitudIntervalo:\n",
    "                frecuenciasObservadas[j] += 1\n",
    "            cont += 1 \n",
    "            \n",
    "    #print(\"las frecuencias observadas:\\n\",frecuenciasObservadas)\n",
    "        \n",
    "    frecuenciaEsperada = len(secuencia) / float(canpart)\n",
    "    chiCuadrado = 0.0\n",
    "        \n",
    "    for i in range(0,canpart):\n",
    "        chiCuadrado += (frecuenciasObservadas[i] - frecuenciaEsperada)**2 / frecuenciaEsperada\n",
    "    #print(\"valor final: \")\n",
    "    chiCuadrado=round(chiCuadrado,4);\n",
    "    print (\"Prueba del simulador=\",chiCuadrado)\n",
    "    \n",
    "\n",
    "\n",
    "    if(chiCuadrado<critico):\n",
    "        print(\"Aceptada la hipotesis de uniformidad chi-cuadrado\\n\")\n",
    "    \n",
    "    else:\n",
    "        print(\"Rechazada la hipotesis de uniformidad chi-cuadrado\\n\")\n",
    "\n",
    "\n",
    "\n",
    "N=int(input(\"Ingrese la cantidad maxima de numeros a generar: \"));\n",
    "x0=float(input(\"Ingrese el valor de la semilla x0: \"));\n",
    "k = int(input(\"Introduzca el valor de k: \")) \n",
    "crit = stats.chi2.ppf(q = 0.95,df = k)\n",
    "crit=round(crit,4)\n",
    "print(\"Prueba chi-cuadrado con k=\",k,\" y 95% = \",crit)\n",
    "    \n",
    "print(\"Generador Borland\")\n",
    "b=borland(x0, N)\n",
    "chiCuadrado(crit,k,b)\n",
    "\n",
    "print(\"Generador numericalReciepies\")\n",
    "re = numericalReciepies(x0, N)\n",
    "chiCuadrado(crit,k,re)\n",
    "\n",
    "print(\"Generador gSinclair\")\n",
    "s = gSinclair(x0, N)\n",
    "chiCuadrado(crit,k,s)\n",
    "\n",
    "print(\"Generador randu\")\n",
    "X = randu(x0, N)\n",
    "chiCuadrado(crit,k,X)\n",
    "\n",
    "\n",
    "\n",
    "\n",
    "\n",
    "\n",
    "\n"
   ]
  },
  {
   "cell_type": "code",
   "execution_count": 4,
   "metadata": {},
   "outputs": [
    {
     "name": "stdout",
     "output_type": "stream",
     "text": [
      "Ingrese la cantidad maxima de numeros a generar: 50\n",
      "Ingrese el valor de la semilla x0: 5\n",
      "Test de rachas\n",
      "Generador Borland\n",
      "Las rachas son: \n",
      "37\n",
      "|Z|= \n",
      "1.366639777028183 \n",
      "\n",
      "Aceptada la prueba de rachas\n",
      "\n",
      "Generador numericalReciepies\n",
      "Las rachas son: \n",
      "38\n",
      "|Z|= \n",
      "1.708299721285229 \n",
      "\n",
      "Aceptada la prueba de rachas\n",
      "\n",
      "Generador gSinclair\n",
      "Las rachas son: \n",
      "33\n",
      "|Z|= \n",
      "0.0 \n",
      "\n",
      "Aceptada la prueba de rachas\n",
      "\n",
      "Generador randu\n",
      "Las rachas son: \n",
      "28\n",
      "|Z|= \n",
      "1.708299721285229 \n",
      "\n",
      "Aceptada la prueba de rachas\n",
      "\n"
     ]
    }
   ],
   "source": [
    "## Test de rachas\n",
    "import numpy as np\n",
    "import scipy as sp\n",
    "\n",
    "import math\n",
    "\n",
    "import scipy.stats as stats\n",
    "def randu(X,P):\n",
    "    r = []\n",
    "    for i in range(P):\n",
    "        X=(65539*X)%(2**31)\n",
    "        \n",
    "        r.append(float(X)/(2**31))\n",
    "    return r\n",
    "\n",
    "def gSinclair(X, P):\n",
    "    r = []\n",
    "    for i in range(P):\n",
    "        X=(75*X)%((2**16)+1)\n",
    "        r.append(float(X)/((2**16)+1))\n",
    "    return r\n",
    "\n",
    "def numericalReciepies(X,P):\n",
    "    r = []\n",
    "    for i in range(P):\n",
    "        X=(1664525*X+1013904223)%(2**32)\n",
    "        r.append(float(X)/2**32)\n",
    "    return r\n",
    "def borland(X,P):\n",
    "    r = []\n",
    "    for i in range(P):\n",
    "        X=(22695477*X+1)%(2**32)\n",
    "        r.append(float(X)/2**32)\n",
    "    return r\n",
    "def testRachas(x):\n",
    "    tRacha=[]\n",
    "    for i in range(len(x)-1):\n",
    "        if x[i] > x[i+1]:\n",
    "            tRacha.append(0)\n",
    "        elif x[i] < x[i+1]:\n",
    "            tRacha.append(1)\n",
    "    R=1 \n",
    "    for i in range(len(tRacha)-1):\n",
    "        if tRacha[i]!=tRacha[i+1]: \n",
    "            R+=1\n",
    "    print (\"Las rachas son: \")\n",
    "    print (R)\n",
    "    \n",
    "    Z = (R - (2*N-1)/float(3))/math.sqrt((16*N-29)/float(90))\n",
    "    \n",
    "    #print(\"Z=\",Z)\n",
    "    print (\"|Z|= \")\n",
    "    print (np.absolute(Z),\"\\n\")\n",
    "    z=np.absolute(Z)\n",
    "    if(z<1.960):\n",
    "        print(\"Aceptada la prueba de rachas\\n\")\n",
    "    else:\n",
    "        print(\"Rechazada la prueba de rachas\\n\")\n",
    "\n",
    "\n",
    "\n",
    "N=int(input(\"Ingrese la cantidad maxima de numeros a generar: \"));\n",
    "x0=float(input(\"Ingrese el valor de la semilla x0: \"));\n",
    "print(\"Test de rachas\")\n",
    "    \n",
    "print(\"Generador Borland\")\n",
    "b=borland(x0, N)\n",
    "testRachas(b)\n",
    "\n",
    "print(\"Generador numericalReciepies\")\n",
    "re = numericalReciepies(x0, N)\n",
    "testRachas(re)\n",
    "\n",
    "print(\"Generador gSinclair\")\n",
    "s = gSinclair(x0, N)\n",
    "testRachas(s)\n",
    "\n",
    "print(\"Generador randu\")\n",
    "X = randu(x0, N)\n",
    "testRachas(X)\n"
   ]
  },
  {
   "cell_type": "code",
   "execution_count": 7,
   "metadata": {},
   "outputs": [
    {
     "name": "stdout",
     "output_type": "stream",
     "text": [
      "Ingrese la cantidad maxima de numeros a generar: 50\n",
      "Ingrese el valor de la semilla x0: 5\n",
      "Pruebas de Kolmogorov-Smirnov\n",
      "Generador Borland\n"
     ]
    },
    {
     "data": {
      "image/png": "[encoded data removed]",
      "text/plain": [
       "<Figure size 432x288 with 1 Axes>"
      ]
     },
     "metadata": {
      "needs_background": "light"
     },
     "output_type": "display_data"
    },
    {
     "name": "stdout",
     "output_type": "stream",
     "text": [
      "De =  0.2648548497555668\n"
     ]
    },
    {
     "data": {
      "image/png": "[encoded data removed]",
      "text/plain": [
       "<Figure size 432x288 with 1 Axes>"
      ]
     },
     "metadata": {
      "needs_background": "light"
     },
     "output_type": "display_data"
    },
    {
     "name": "stdout",
     "output_type": "stream",
     "text": [
      "D =  0.26485484975556667\n",
      "p-value =  0.0013838018617391762 \n",
      "\n",
      "Generador numericalReciepies\n"
     ]
    },
    {
     "data": {
      "image/png": "[encoded data removed]",
      "text/plain": [
       "<Figure size 432x288 with 1 Axes>"
      ]
     },
     "metadata": {
      "needs_background": "light"
     },
     "output_type": "display_data"
    },
    {
     "name": "stdout",
     "output_type": "stream",
     "text": [
      "De =  0.2535990275873517\n"
     ]
    },
    {
     "data": {
      "image/png": "[encoded data removed]",
      "text/plain": [
       "<Figure size 432x288 with 1 Axes>"
      ]
     },
     "metadata": {
      "needs_background": "light"
     },
     "output_type": "display_data"
    },
    {
     "name": "stdout",
     "output_type": "stream",
     "text": [
      "D =  0.2535990275873516\n",
      "p-value =  0.00253957190489036 \n",
      "\n",
      "Generador gSinclair\n"
     ]
    },
    {
     "data": {
      "image/png": "[encoded data removed]",
      "text/plain": [
       "<Figure size 432x288 with 1 Axes>"
      ]
     },
     "metadata": {
      "needs_background": "light"
     },
     "output_type": "display_data"
    },
    {
     "name": "stdout",
     "output_type": "stream",
     "text": [
      "De =  0.23889467436147596\n"
     ]
    },
    {
     "data": {
      "image/png": "[encoded data removed]",
      "text/plain": [
       "<Figure size 432x288 with 1 Axes>"
      ]
     },
     "metadata": {
      "needs_background": "light"
     },
     "output_type": "display_data"
    },
    {
     "name": "stdout",
     "output_type": "stream",
     "text": [
      "D =  0.2388946743614758\n",
      "p-value =  0.005384944263030697 \n",
      "\n",
      "Generador randu\n"
     ]
    },
    {
     "data": {
      "image/png": "[encoded data removed]",
      "text/plain": [
       "<Figure size 432x288 with 1 Axes>"
      ]
     },
     "metadata": {
      "needs_background": "light"
     },
     "output_type": "display_data"
    },
    {
     "name": "stdout",
     "output_type": "stream",
     "text": [
      "De =  0.30898680532111633\n"
     ]
    },
    {
     "data": {
      "image/png": "[encoded data removed]",
      "text/plain": [
       "<Figure size 432x288 with 1 Axes>"
      ]
     },
     "metadata": {
      "needs_background": "light"
     },
     "output_type": "display_data"
    },
    {
     "name": "stdout",
     "output_type": "stream",
     "text": [
      "D =  0.3089868053211162\n",
      "p-value =  9.760198992599925e-05 \n",
      "\n"
     ]
    }
   ],
   "source": [
    "## Prueba de Kolmogorov-Smirnov\n",
    "import numpy as np\n",
    "import scipy as sp\n",
    "import matplotlib.pyplot as plt\n",
    "def randu(X,P):\n",
    "    r = []\n",
    "    for i in range(P):\n",
    "        X=(65539*X)%(2**31)\n",
    "        \n",
    "        r.append(float(X)/(2**31))\n",
    "    return r\n",
    "\n",
    "def gSinclair(X, P):\n",
    "    r = []\n",
    "    for i in range(P):\n",
    "        X=(75*X)%((2**16)+1)\n",
    "        r.append(float(X)/((2**16)+1))\n",
    "    return r\n",
    "\n",
    "def numericalReciepies(X,P):\n",
    "    r = []\n",
    "    for i in range(P):\n",
    "        X=(1664525*X+1013904223)%(2**32)\n",
    "        r.append(float(X)/2**32)\n",
    "    return r\n",
    "def borland(X,P):\n",
    "    r = []\n",
    "    for i in range(P):\n",
    "        X=(22695477*X+1)%(2**32)\n",
    "        r.append(float(X)/2**32)\n",
    "    return r\n",
    "\n",
    "def Kolmog(n,x):\n",
    "    \n",
    "    count, bins, ignored = plt.hist(x, 25, density=True)\n",
    "    plt.plot(bins, np.ones_like(bins), linewidth=2, color='r')\n",
    "    plt.show()\n",
    "\n",
    "\n",
    "    x1 = np.arange(1/N,1+1/N,1/N)\n",
    "    y1 = np.cumsum(np.sort(u)/np.max(np.cumsum(u)))\n",
    "\n",
    "    x2 = np.sort(x)\n",
    "    y2 = np.cumsum(np.sort(x)/np.max(np.cumsum(x)))\n",
    "    \n",
    "    De=np.absolute(y2-y1)\n",
    "    print(\"De = \",np.max(De))\n",
    "\n",
    "    plt.plot(x1,y1,label='Uniform')\n",
    "    plt.step(x2,y2,label='Random')\n",
    "    x3 = [x1[De.argmax()],x1[De.argmax()]]\n",
    "    y3 = [np.min([y1[De.argmax()],y2[De.argmax()]]),np.max([y1[De.argmax()],y2[De.argmax()]])]\n",
    "    plt.step(x3,y3,label='D')\n",
    "    plt.legend()\n",
    "    plt.xlabel('X')\n",
    "    plt.ylabel('Cumulative Probability P(X)')\n",
    "    plt.ylim(0, 1.05)\n",
    "    plt.show()\n",
    "    from scipy import stats\n",
    "    D,pvalue = stats.kstest(y2, 'uniform')\n",
    "    print(\"D = \", D)\n",
    "    print(\"p-value = \", pvalue,\"\\n\")\n",
    "    \n",
    "\n",
    "    \n",
    "\n",
    "\n",
    "\n",
    "N=int(input(\"Ingrese la cantidad maxima de numeros a generar: \"));\n",
    "u = [1.0] * N;\n",
    "x0=float(input(\"Ingrese el valor de la semilla x0: \"));\n",
    "print(\"Pruebas de Kolmogorov-Smirnov\")\n",
    "    \n",
    "print(\"Generador Borland\")\n",
    "b=borland(x0, N)\n",
    "Kolmog(N,b)\n",
    "\n",
    "print(\"Generador numericalReciepies\")\n",
    "re = numericalReciepies(x0, N)\n",
    "Kolmog(N,re)\n",
    "\n",
    "print(\"Generador gSinclair\")\n",
    "s = gSinclair(x0, N)\n",
    "Kolmog(N,s)\n",
    "\n",
    "print(\"Generador randu\")\n",
    "X = randu(x0, N)\n",
    "Kolmog(N,X)\n"
   ]
  },
  {
   "cell_type": "code",
   "execution_count": null,
   "metadata": {},
   "outputs": [],
   "source": []
  },
  {
   "cell_type": "code",
   "execution_count": null,
   "metadata": {},
   "outputs": [],
   "source": []
  }
 ],
 "metadata": {
  "kernelspec": {
   "display_name": "Python 3",
   "language": "python",
   "name": "python3"
  },
  "language_info": {
   "codemirror_mode": {
    "name": "ipython",
    "version": 3
   },
   "file_extension": ".py",
   "mimetype": "text/x-python",
   "name": "python",
   "nbconvert_exporter": "python",
   "pygments_lexer": "ipython3",
   "version": "3.7.3"
  }
 },
 "nbformat": 4,
 "nbformat_minor": 2
}
